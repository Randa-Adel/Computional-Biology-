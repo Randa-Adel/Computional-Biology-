{
 "cells": [
  {
   "cell_type": "code",
   "execution_count": 1,
   "id": "8b91bb1a",
   "metadata": {},
   "outputs": [],
   "source": [
    "from pyopenms import *\n",
    "from urllib.request import urlretrieve"
   ]
  },
  {
   "cell_type": "code",
   "execution_count": 2,
   "id": "3bd5cf3b",
   "metadata": {},
   "outputs": [
    {
     "name": "stdout",
     "output_type": "stream",
     "text": [
      "DTHK\n"
     ]
    },
    {
     "data": {
      "text/plain": [
       "82"
      ]
     },
     "execution_count": 2,
     "metadata": {},
     "output_type": "execute_result"
    }
   ],
   "source": [
    "gh = \"https://raw.githubusercontent.com/OpenMS/pyopenms-docs/master\"\n",
    "urlretrieve (gh + \"/src/data/P02769.fasta\", \"bsa.fasta\")\n",
    "\n",
    "dig = ProteaseDigestion()\n",
    "\n",
    "dig.getEnzymeName()           # Trypsin\n",
    "\n",
    "bsa = \"\".join([l.strip() for l in open(\"bsa.fasta\").readlines()[1:]])\n",
    "\n",
    "bsa = AASequence.fromString(bsa)\n",
    "\n",
    "# create all digestion products\n",
    "result = []\n",
    "\n",
    "dig.digest(bsa, result)\n",
    "\n",
    "print(result[4].toString())\n",
    "\n",
    "len(result)                   "
   ]
  },
  {
   "cell_type": "code",
   "execution_count": 3,
   "id": "59332a60",
   "metadata": {},
   "outputs": [
    {
     "name": "stdout",
     "output_type": "stream",
     "text": [
      "WVTFISLLLLFSSAYSR\n",
      "GVFR\n",
      "DTHK\n",
      "SEIAHR\n",
      "DLGEEHFK\n",
      "GLVLIAFSQYLQQCPFDEHVK\n",
      "LVNELTEFAK\n",
      "TCVADESHAGCEK\n",
      "SLHTLFGDELCK\n",
      "VASLR\n",
      "ETYGDMADCCEK\n",
      "QEPER\n",
      "NECFLSHK\n",
      "DDSPDLPK\n",
      "LKPDPNTLCDEFK\n",
      "ADEK\n",
      "FWGK\n",
      "YLYEIAR\n",
      "HPYFYAPELLYYANK\n",
      "YNGVFQECCQAEDK\n",
      "GACLLPK\n",
      "IETMR\n",
      "VLASSAR\n",
      "CASIQK\n",
      "FGER\n",
      "AWSVAR\n",
      "LSQK\n",
      "AEFVEVTK\n",
      "LVTDLTK\n",
      "ECCHGDLLECADDR\n",
      "ADLAK\n",
      "YICDNQDTISSK\n",
      "ECCDKPLLEK\n",
      "SHCIAEVEK\n",
      "DAIPENLPPLTADFAEDK\n",
      "DVCK\n",
      "NYQEAK\n",
      "DAFLGSFLYEYSR\n",
      "HPEYAVSVLLR\n",
      "EYEATLEECCAK\n",
      "DDPHACYSTVFDK\n",
      "HLVDEPQNLIK\n",
      "QNCDQFEK\n",
      "LGEYGFQNALIVR\n",
      "VPQVSTPTLVEVSR\n",
      "SLGK\n",
      "VGTR\n",
      "CCTKPESER\n",
      "MPCTEDYLSLILNR\n",
      "LCVLHEK\n",
      "TPVSEK\n",
      "CCTESLVNR\n",
      "RPCFSALTPDETYVPK\n",
      "AFDEK\n",
      "LFTFHADICTLPDTEK\n",
      "QTALVELLK\n",
      "HKPK\n",
      "ATEEQLK\n",
      "TVMENFVAFVDK\n",
      "CCAADDK\n",
      "EACFAVEGPK\n",
      "LVVSTQTALA\n"
     ]
    }
   ],
   "source": [
    "dig.digest(bsa, result, 4,40)\n",
    "for s in result:\n",
    "    print(s.toString())"
   ]
  },
  {
   "cell_type": "code",
   "execution_count": 4,
   "id": "3fbeaf02",
   "metadata": {},
   "outputs": [],
   "source": [
    "from collections import Counter\n",
    "peptides = [AASequence.fromString(s.toString()) for s in result]\n",
    "mass_of_peptides={}\n",
    "for peptide in peptides:\n",
    "    mass_of_peptides[peptide.toString()]=peptide.getMonoWeight()"
   ]
  },
  {
   "cell_type": "code",
   "execution_count": 5,
   "id": "aa8185a8",
   "metadata": {},
   "outputs": [
    {
     "data": {
      "text/html": [
       "<div>\n",
       "<style scoped>\n",
       "    .dataframe tbody tr th:only-of-type {\n",
       "        vertical-align: middle;\n",
       "    }\n",
       "\n",
       "    .dataframe tbody tr th {\n",
       "        vertical-align: top;\n",
       "    }\n",
       "\n",
       "    .dataframe thead th {\n",
       "        text-align: right;\n",
       "    }\n",
       "</style>\n",
       "<table border=\"1\" class=\"dataframe\">\n",
       "  <thead>\n",
       "    <tr style=\"text-align: right;\">\n",
       "      <th></th>\n",
       "      <th>peptide</th>\n",
       "      <th>Mass</th>\n",
       "    </tr>\n",
       "  </thead>\n",
       "  <tbody>\n",
       "    <tr>\n",
       "      <th>0</th>\n",
       "      <td>WVTFISLLLLFSSAYSR</td>\n",
       "      <td>2002.092794</td>\n",
       "    </tr>\n",
       "    <tr>\n",
       "      <th>1</th>\n",
       "      <td>GVFR</td>\n",
       "      <td>477.269969</td>\n",
       "    </tr>\n",
       "    <tr>\n",
       "      <th>2</th>\n",
       "      <td>DTHK</td>\n",
       "      <td>499.239064</td>\n",
       "    </tr>\n",
       "    <tr>\n",
       "      <th>3</th>\n",
       "      <td>SEIAHR</td>\n",
       "      <td>711.366391</td>\n",
       "    </tr>\n",
       "    <tr>\n",
       "      <th>4</th>\n",
       "      <td>DLGEEHFK</td>\n",
       "      <td>973.450516</td>\n",
       "    </tr>\n",
       "    <tr>\n",
       "      <th>...</th>\n",
       "      <td>...</td>\n",
       "      <td>...</td>\n",
       "    </tr>\n",
       "    <tr>\n",
       "      <th>57</th>\n",
       "      <td>ATEEQLK</td>\n",
       "      <td>817.418153</td>\n",
       "    </tr>\n",
       "    <tr>\n",
       "      <th>58</th>\n",
       "      <td>TVMENFVAFVDK</td>\n",
       "      <td>1398.685345</td>\n",
       "    </tr>\n",
       "    <tr>\n",
       "      <th>59</th>\n",
       "      <td>CCAADDK</td>\n",
       "      <td>724.252015</td>\n",
       "    </tr>\n",
       "    <tr>\n",
       "      <th>60</th>\n",
       "      <td>EACFAVEGPK</td>\n",
       "      <td>1049.485187</td>\n",
       "    </tr>\n",
       "    <tr>\n",
       "      <th>61</th>\n",
       "      <td>LVVSTQTALA</td>\n",
       "      <td>1001.575717</td>\n",
       "    </tr>\n",
       "  </tbody>\n",
       "</table>\n",
       "<p>62 rows × 2 columns</p>\n",
       "</div>"
      ],
      "text/plain": [
       "              peptide         Mass\n",
       "0   WVTFISLLLLFSSAYSR  2002.092794\n",
       "1                GVFR   477.269969\n",
       "2                DTHK   499.239064\n",
       "3              SEIAHR   711.366391\n",
       "4            DLGEEHFK   973.450516\n",
       "..                ...          ...\n",
       "57            ATEEQLK   817.418153\n",
       "58       TVMENFVAFVDK  1398.685345\n",
       "59            CCAADDK   724.252015\n",
       "60         EACFAVEGPK  1049.485187\n",
       "61         LVVSTQTALA  1001.575717\n",
       "\n",
       "[62 rows x 2 columns]"
      ]
     },
     "execution_count": 5,
     "metadata": {},
     "output_type": "execute_result"
    }
   ],
   "source": [
    "import pandas as pd \n",
    "\n",
    "df = pd.DataFrame(list(mass_of_peptides.items()), columns = ['peptide', 'Mass'])\n",
    "df"
   ]
  },
  {
   "cell_type": "code",
   "execution_count": 6,
   "id": "b98d62e9",
   "metadata": {},
   "outputs": [
    {
     "data": {
      "text/plain": [
       "Counter({2002.0927936893002: 1,\n",
       "         477.2699691165: 1,\n",
       "         499.2390640527001: 1,\n",
       "         711.3663905631: 1,\n",
       "         973.4505160096999: 1,\n",
       "         2434.2355141849002: 1,\n",
       "         1162.6233957434: 1,\n",
       "         1348.5387581396: 1,\n",
       "         1361.6649437605: 1,\n",
       "         544.3332984036: 1,\n",
       "         1363.4730467739: 1,\n",
       "         657.3082073717001: 1,\n",
       "         976.4436557715999: 1,\n",
       "         885.4079828821: 1,\n",
       "         1518.7388381114001: 1,\n",
       "         461.21218098890006: 1,\n",
       "         536.2747201483999: 1,\n",
       "         926.4861721054001: 1,\n",
       "         1887.9195799875001: 1,\n",
       "         1632.6548516500002: 1,\n",
       "         700.3941845164: 1,\n",
       "         648.3264992612: 1,\n",
       "         702.4024417226: 1,\n",
       "         648.3264992612001: 1,\n",
       "         507.24414905270004: 1,\n",
       "         688.3656615312: 1,\n",
       "         474.28020021220004: 1,\n",
       "         921.4807531372999: 1,\n",
       "         788.4643740416: 1,\n",
       "         1577.5908712205003: 1,\n",
       "         516.290765276: 1,\n",
       "         1385.6133036329002: 1,\n",
       "         1176.5518871396: 1,\n",
       "         1014.480435963: 1,\n",
       "         1954.9523992746006: 1,\n",
       "         463.2100717827001: 1,\n",
       "         751.3500725631: 1,\n",
       "         1566.7354672538002: 1,\n",
       "         1282.7033769985999: 1,\n",
       "         1387.5635762990999: 1,\n",
       "         1496.6242026648001: 1,\n",
       "         1304.7088570623998: 1,\n",
       "         1010.4127507078001: 1,\n",
       "         1478.7881703813998: 1,\n",
       "         1510.8355156366: 1,\n",
       "         403.24308605270005: 1,\n",
       "         431.24923405270005: 1,\n",
       "         1051.4426706611: 1,\n",
       "         1666.8058722242001: 1,\n",
       "         840.4527627716: 1,\n",
       "         659.3490095631: 1,\n",
       "         1023.4477556611001: 1,\n",
       "         1822.8923797494: 1,\n",
       "         608.280595276: 1,\n",
       "         1849.8920457813: 1,\n",
       "         1013.6121016477: 1,\n",
       "         508.3121682760001: 1,\n",
       "         817.4181528821: 1,\n",
       "         1398.6853448562: 1,\n",
       "         724.2520148635999: 1,\n",
       "         1049.4851869949: 1,\n",
       "         1001.5757165201: 1})"
      ]
     },
     "execution_count": 6,
     "metadata": {},
     "output_type": "execute_result"
    }
   ],
   "source": [
    "Counter(mass_of_peptides.values())"
   ]
  },
  {
   "cell_type": "code",
   "execution_count": 7,
   "id": "9367159f",
   "metadata": {},
   "outputs": [
    {
     "data": {
      "text/plain": [
       "33"
      ]
     },
     "execution_count": 7,
     "metadata": {},
     "output_type": "execute_result"
    }
   ],
   "source": [
    "names = []\n",
    "ProteaseDB().getAllNames(names)\n",
    "len(names) "
   ]
  },
  {
   "cell_type": "code",
   "execution_count": 8,
   "id": "c455dc25",
   "metadata": {},
   "outputs": [
    {
     "name": "stdout",
     "output_type": "stream",
     "text": [
      "GLVLIAFSQYLQQCPFDEHVK\n"
     ]
    },
    {
     "data": {
      "text/plain": [
       "57"
      ]
     },
     "execution_count": 8,
     "metadata": {},
     "output_type": "execute_result"
    }
   ],
   "source": [
    "dig = ProteaseDigestion()\n",
    "dig.setEnzyme('Lys-C')\n",
    "bsa = \"\".join([l.strip() for l in open(\"bsa.fasta\").readlines()[1:]])\n",
    "bsa = AASequence.fromString(bsa)\n",
    "result = []\n",
    "dig.digest(bsa, result)\n",
    "print(result[4].toString())\n",
    "len(result)"
   ]
  },
  {
   "cell_type": "code",
   "execution_count": null,
   "id": "0e6c98f0",
   "metadata": {},
   "outputs": [],
   "source": []
  }
 ],
 "metadata": {
  "kernelspec": {
   "display_name": "Python 3 (ipykernel)",
   "language": "python",
   "name": "python3"
  },
  "language_info": {
   "codemirror_mode": {
    "name": "ipython",
    "version": 3
   },
   "file_extension": ".py",
   "mimetype": "text/x-python",
   "name": "python",
   "nbconvert_exporter": "python",
   "pygments_lexer": "ipython3",
   "version": "3.9.12"
  }
 },
 "nbformat": 4,
 "nbformat_minor": 5
}
