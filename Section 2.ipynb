{
 "cells": [
  {
   "cell_type": "markdown",
   "id": "0d6e6746",
   "metadata": {},
   "source": [
    "# Section 2"
   ]
  },
  {
   "cell_type": "markdown",
   "id": "54519265",
   "metadata": {},
   "source": [
    "## Reading From XML Files"
   ]
  },
  {
   "cell_type": "code",
   "execution_count": 9,
   "id": "1714c7ec",
   "metadata": {},
   "outputs": [
    {
     "name": "stdout",
     "output_type": "stream",
     "text": [
      "<?xml version=\"1.0\" encoding=\"UTF-8\"?>\n",
      "<breakfast_menu>\n",
      "<name>Belgian Waffles</name>\n",
      "<price>$5.95</price>\n",
      "<description>\n",
      "Two of our famous Belgian Waffles with plenty of real maple syrup\n",
      "</description>\n",
      "<calories>650</calories>\n",
      "<name>Strawberry Belgian Waffles</name>\n",
      "<price>$7.95</price>\n",
      "<description>\n",
      "Light Belgian waffles covered with strawberries and whipped cream\n",
      "</description>\n",
      "<calories>900</calories>\n",
      "<name>Berry-Berry Belgian Waffles</name>\n",
      "<price>$8.95</price>\n",
      "<description>\n",
      "Belgian waffles covered with assorted fresh berries and whipped cream\n",
      "</description>\n",
      "<calories>900</calories>\n",
      "<name>French Toast</name>\n",
      "<price>$4.50</price>\n",
      "<description>\n",
      "Thick slices made from our homemade sourdough bread\n",
      "</description>\n",
      "<calories>600</calories>\n",
      "<name>Homestyle Breakfast</name>\n",
      "<price>$6.95</price>\n",
      "<description>\n",
      "Two eggs, bacon or sausage, toast, and our ever-popular hash browns\n",
      "</description>\n",
      "<calories>950</calories>\n",
      "</breakfast_menu>\n"
     ]
    }
   ],
   "source": [
    "with open(\"g.xml\") as x:\n",
    "    for i in x:\n",
    "        print(i.strip())"
   ]
  },
  {
   "cell_type": "code",
   "execution_count": 10,
   "id": "4c6c94b3",
   "metadata": {},
   "outputs": [
    {
     "name": "stdout",
     "output_type": "stream",
     "text": [
      "breakfast_menu\n"
     ]
    }
   ],
   "source": [
    "import xml.etree.ElementTree\n",
    "tree = xml.etree.ElementTree.parse('g.xml')\n",
    "t = tree.getroot()\n",
    "print(t.tag)"
   ]
  },
  {
   "cell_type": "code",
   "execution_count": 13,
   "id": "3fc3a866",
   "metadata": {},
   "outputs": [
    {
     "name": "stdout",
     "output_type": "stream",
     "text": [
      "name {}\n",
      "price {}\n",
      "description {}\n",
      "calories {}\n",
      "name {}\n",
      "price {}\n",
      "description {}\n",
      "calories {}\n",
      "name {}\n",
      "price {}\n",
      "description {}\n",
      "calories {}\n",
      "name {}\n",
      "price {}\n",
      "description {}\n",
      "calories {}\n",
      "name {}\n",
      "price {}\n",
      "description {}\n",
      "calories {}\n"
     ]
    }
   ],
   "source": [
    "for child in t:\n",
    "    print(child.tag, child.attrib)"
   ]
  },
  {
   "cell_type": "code",
   "execution_count": 17,
   "id": "49aae65e",
   "metadata": {},
   "outputs": [
    {
     "data": {
      "text/plain": [
       "'\\nTwo of our famous Belgian Waffles with plenty of real maple syrup\\n'"
      ]
     },
     "execution_count": 17,
     "metadata": {},
     "output_type": "execute_result"
    }
   ],
   "source": [
    "t[2].text"
   ]
  },
  {
   "cell_type": "markdown",
   "id": "8f68f23a",
   "metadata": {},
   "source": [
    "## Binary Files & Text Files "
   ]
  },
  {
   "cell_type": "markdown",
   "id": "bf9a2d64",
   "metadata": {},
   "source": [
    "### First Of All Text Files ..."
   ]
  },
  {
   "cell_type": "code",
   "execution_count": 18,
   "id": "72d980b4",
   "metadata": {},
   "outputs": [],
   "source": [
    "file = open(\"test.txt\",'w')\n",
    "file.write(\"Randa Adel ...\")\n",
    "file.close()"
   ]
  },
  {
   "cell_type": "code",
   "execution_count": 20,
   "id": "c004abfc",
   "metadata": {},
   "outputs": [
    {
     "name": "stdout",
     "output_type": "stream",
     "text": [
      "Randa Adel ...\n"
     ]
    }
   ],
   "source": [
    "file = open(\"test.txt\",'r')\n",
    "text = file.read()\n",
    "print(text)\n",
    "file.close()"
   ]
  },
  {
   "cell_type": "markdown",
   "id": "067eb63c",
   "metadata": {},
   "source": [
    "### Second dealing with binary files ..."
   ]
  },
  {
   "cell_type": "code",
   "execution_count": 26,
   "id": "3a262900",
   "metadata": {},
   "outputs": [],
   "source": [
    "file = open(\"btest.bin\",\"wb\")\n",
    "file.write(b'Randa Adel ...')\n",
    "file.close()"
   ]
  },
  {
   "cell_type": "code",
   "execution_count": 27,
   "id": "be5e5a13",
   "metadata": {},
   "outputs": [
    {
     "name": "stdout",
     "output_type": "stream",
     "text": [
      "b'Randa Adel ...'\n"
     ]
    }
   ],
   "source": [
    "file = open(\"btest.bin\",\"rb\")\n",
    "f = file.read()\n",
    "print(f)\n",
    "file.close()"
   ]
  },
  {
   "cell_type": "code",
   "execution_count": 33,
   "id": "d30430e3",
   "metadata": {},
   "outputs": [],
   "source": [
    "l = [1,2,3,4,5,6,7,8,9]\n",
    "file = open(\"list.bin\",\"wb\")\n",
    "l = bytearray(l)\n",
    "file.write(l)\n",
    "file.close()"
   ]
  },
  {
   "cell_type": "code",
   "execution_count": 34,
   "id": "29589ea5",
   "metadata": {},
   "outputs": [
    {
     "name": "stdout",
     "output_type": "stream",
     "text": [
      "[1, 2, 3, 4, 5, 6, 7, 8, 9]\n"
     ]
    }
   ],
   "source": [
    "file = open(\"list.bin\",\"rb\")\n",
    "l = list(file.read())\n",
    "print(l)\n",
    "file.close()"
   ]
  },
  {
   "cell_type": "code",
   "execution_count": null,
   "id": "e5fb43be",
   "metadata": {},
   "outputs": [],
   "source": []
  }
 ],
 "metadata": {
  "kernelspec": {
   "display_name": "Python 3 (ipykernel)",
   "language": "python",
   "name": "python3"
  },
  "language_info": {
   "codemirror_mode": {
    "name": "ipython",
    "version": 3
   },
   "file_extension": ".py",
   "mimetype": "text/x-python",
   "name": "python",
   "nbconvert_exporter": "python",
   "pygments_lexer": "ipython3",
   "version": "3.9.12"
  }
 },
 "nbformat": 4,
 "nbformat_minor": 5
}
