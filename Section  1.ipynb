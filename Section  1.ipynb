{
 "cells": [
  {
   "cell_type": "markdown",
   "id": "63e99496",
   "metadata": {},
   "source": [
    "## Installation Of The Package "
   ]
  },
  {
   "cell_type": "code",
   "execution_count": 1,
   "id": "7a353539",
   "metadata": {},
   "outputs": [
    {
     "name": "stdout",
     "output_type": "stream",
     "text": [
      "Collecting pyopenms\n",
      "  Downloading pyopenms-2.7.0-cp39-cp39-win_amd64.whl (29.4 MB)\n",
      "Requirement already satisfied: numpy in f:\\anaconda\\lib\\site-packages (from pyopenms) (1.21.5)\n",
      "Installing collected packages: pyopenms\n",
      "Successfully installed pyopenms-2.7.0\n"
     ]
    }
   ],
   "source": [
    "! pip install pyopenms\n"
   ]
  },
  {
   "cell_type": "code",
   "execution_count": 3,
   "id": "c98ee334",
   "metadata": {},
   "outputs": [],
   "source": [
    "import pyopenms as py"
   ]
  },
  {
   "cell_type": "markdown",
   "id": "1d08b198",
   "metadata": {},
   "source": [
    "## Create object with all elements of the Periodic Table"
   ]
  },
  {
   "cell_type": "code",
   "execution_count": null,
   "id": "9a782c24",
   "metadata": {},
   "outputs": [],
   "source": [
    "edb = py.ElementDB()"
   ]
  },
  {
   "cell_type": "code",
   "execution_count": 7,
   "id": "833011c8",
   "metadata": {},
   "outputs": [
    {
     "data": {
      "text/plain": [
       "True"
      ]
     },
     "execution_count": 7,
     "metadata": {},
     "output_type": "execute_result"
    }
   ],
   "source": [
    "# edb conatains all elements of the periodic table so it includes the carbon \n",
    "edb.hasElement('C')"
   ]
  },
  {
   "cell_type": "code",
   "execution_count": 8,
   "id": "f5cfe514",
   "metadata": {},
   "outputs": [
    {
     "data": {
      "text/plain": [
       "False"
      ]
     },
     "execution_count": 8,
     "metadata": {},
     "output_type": "execute_result"
    }
   ],
   "source": [
    "# 'cc' isn't an element in a periodic table \n",
    "edb.hasElement('CC')"
   ]
  },
  {
   "cell_type": "code",
   "execution_count": 14,
   "id": "842a8adc",
   "metadata": {},
   "outputs": [
    {
     "data": {
      "text/plain": [
       "'Oxygen'"
      ]
     },
     "execution_count": 14,
     "metadata": {},
     "output_type": "execute_result"
    }
   ],
   "source": [
    "oxygen = edb.getElement('O')\n",
    "oxygen.getName()"
   ]
  },
  {
   "cell_type": "code",
   "execution_count": 15,
   "id": "1ab3ec46",
   "metadata": {},
   "outputs": [
    {
     "data": {
      "text/plain": [
       "'O'"
      ]
     },
     "execution_count": 15,
     "metadata": {},
     "output_type": "execute_result"
    }
   ],
   "source": [
    "oxygen.getSymbol()"
   ]
  },
  {
   "cell_type": "markdown",
   "id": "77c50149",
   "metadata": {},
   "source": [
    "## Monoisotopic\n",
    "* The monoisotopic weight is the weight of the most abundant isotope while the average weight is the sum across all isotopes, weighted by their natural abundance."
   ]
  },
  {
   "cell_type": "code",
   "execution_count": 16,
   "id": "4355bfa9",
   "metadata": {},
   "outputs": [
    {
     "data": {
      "text/plain": [
       "15.994915"
      ]
     },
     "execution_count": 16,
     "metadata": {},
     "output_type": "execute_result"
    }
   ],
   "source": [
    "oxogyn.getMonoWeight()"
   ]
  },
  {
   "cell_type": "code",
   "execution_count": 17,
   "id": "126901bc",
   "metadata": {},
   "outputs": [
    {
     "data": {
      "text/plain": [
       "15.999405323160001"
      ]
     },
     "execution_count": 17,
     "metadata": {},
     "output_type": "execute_result"
    }
   ],
   "source": [
    "oxogyn.getAverageWeight()"
   ]
  },
  {
   "cell_type": "code",
   "execution_count": 18,
   "id": "057576d6",
   "metadata": {},
   "outputs": [],
   "source": [
    "edb = py.ElementDB()"
   ]
  },
  {
   "cell_type": "code",
   "execution_count": 25,
   "id": "2ac56bea",
   "metadata": {},
   "outputs": [
    {
     "name": "stdout",
     "output_type": "stream",
     "text": [
      "Oxygen Isotopes :  15.994915 ,has abundance  99.75699782371521\n",
      "Oxygen Isotopes :  16.999132 ,has abundance  0.03800000122282654\n",
      "Oxygen Isotopes :  17.999169 ,has abundance  0.20500000100582838\n"
     ]
    }
   ],
   "source": [
    "oxygen_iso = {\"mass\":[],\"abundance\":[]}\n",
    "oxygen = edb.getElement('O')\n",
    "isotopes = oxygen.getIsotopeDistribution()\n",
    "for i in isotopes.getContainer():\n",
    "    print(\"Oxygen Isotopes : \",i.getMZ(),\",has abundance \",i.getIntensity()*100)\n",
    "    oxygen_iso[\"mass\"].append(i.getMZ())\n",
    "    oxygen_iso[\"abundance\"].append(i.getIntensity()*100)\n",
    "    "
   ]
  },
  {
   "cell_type": "code",
   "execution_count": 26,
   "id": "74f22a65",
   "metadata": {},
   "outputs": [
    {
     "data": {
      "text/plain": [
       "{'mass': [15.994915, 16.999132, 17.999169],\n",
       " 'abundance': [99.75699782371521, 0.03800000122282654, 0.20500000100582838]}"
      ]
     },
     "execution_count": 26,
     "metadata": {},
     "output_type": "execute_result"
    }
   ],
   "source": [
    "oxygen_iso"
   ]
  },
  {
   "cell_type": "markdown",
   "id": "af183e46",
   "metadata": {},
   "source": [
    "## Molecular Formulae"
   ]
  },
  {
   "cell_type": "code",
   "execution_count": 30,
   "id": "22853c77",
   "metadata": {},
   "outputs": [
    {
     "data": {
      "text/plain": [
       "'C2H6O1'"
      ]
     },
     "execution_count": 30,
     "metadata": {},
     "output_type": "execute_result"
    }
   ],
   "source": [
    "methanol = py.EmpiricalFormula(\"CH3OH\")\n",
    "water = py.EmpiricalFormula(\"H2O\")\n",
    "ethanol = py.EmpiricalFormula(\"CH2\") + methanol\n",
    "ethanol.toString()"
   ]
  },
  {
   "cell_type": "code",
   "execution_count": 31,
   "id": "54e41ee0",
   "metadata": {},
   "outputs": [
    {
     "data": {
      "text/plain": [
       "{b'C': 2, b'H': 6, b'O': 1}"
      ]
     },
     "execution_count": 31,
     "metadata": {},
     "output_type": "execute_result"
    }
   ],
   "source": [
    "ethanol.getElementalComposition()"
   ]
  },
  {
   "cell_type": "code",
   "execution_count": 32,
   "id": "7553a184",
   "metadata": {},
   "outputs": [
    {
     "data": {
      "text/plain": [
       "6"
      ]
     },
     "execution_count": 32,
     "metadata": {},
     "output_type": "execute_result"
    }
   ],
   "source": [
    "ethanol.getElementalComposition()[b\"H\"]"
   ]
  },
  {
   "cell_type": "markdown",
   "id": "c7127b1a",
   "metadata": {},
   "source": [
    "## Amino Acids"
   ]
  },
  {
   "cell_type": "code",
   "execution_count": 36,
   "id": "c4658c74",
   "metadata": {},
   "outputs": [
    {
     "name": "stdout",
     "output_type": "stream",
     "text": [
      "Lysine\n",
      "Lys\n",
      "K\n",
      "146.18788276708446\n",
      "146.1055284466\n",
      "C6H14N2O2\n"
     ]
    }
   ],
   "source": [
    "# creating amino acid and print its information\n",
    "lys = py.ResidueDB().getResidue(\"Lysine\")\n",
    "print(lys.getName())\n",
    "print(lys.getThreeLetterCode())\n",
    "print(lys.getOneLetterCode())\n",
    "print(lys.getAverageWeight())\n",
    "print(lys.getMonoWeight())\n",
    "print(lys.getFormula().toString())"
   ]
  },
  {
   "cell_type": "markdown",
   "id": "cad38e0c",
   "metadata": {},
   "source": [
    "## Ribonucleotides"
   ]
  },
  {
   "cell_type": "code",
   "execution_count": 41,
   "id": "6184eb95",
   "metadata": {},
   "outputs": [
    {
     "name": "stdout",
     "output_type": "stream",
     "text": [
      "uridine\n",
      "U\n",
      "244.2043\n",
      "244.0695\n",
      "C9H12N2O6\n"
     ]
    }
   ],
   "source": [
    "u = py.RibonucleotideDB().getRibonucleotide(b\"U\")\n",
    "print(u.getName())\n",
    "print(u.getCode())\n",
    "print(u.getAvgMass())\n",
    "print(u.getMonoMass())\n",
    "print(u.getFormula().toString())"
   ]
  },
  {
   "cell_type": "markdown",
   "id": "1c815344",
   "metadata": {},
   "source": [
    "## Mass Defect"
   ]
  },
  {
   "cell_type": "code",
   "execution_count": 43,
   "id": "adcd1cf2",
   "metadata": {},
   "outputs": [],
   "source": [
    "edb = py.ElementDB()\n",
    "isotopes = edb.getElement(\"C\").getIsotopeDistribution().getContainer()\n",
    "carbon_isotope_difference = isotopes[1].getMZ() - isotopes[0].getMZ()\n",
    "isotopes = edb.getElement(\"N\").getIsotopeDistribution().getContainer()\n",
    "nitrogen_isotope_difference = isotopes[1].getMZ() - isotopes[0].getMZ()"
   ]
  },
  {
   "cell_type": "code",
   "execution_count": 44,
   "id": "b7ad7525",
   "metadata": {},
   "outputs": [
    {
     "name": "stdout",
     "output_type": "stream",
     "text": [
      "Mass difference between 12C and 13C: 1.0033550000000009\n",
      "Mass difference between 14N and N15: 0.9970350000000003\n",
      "Relative deviation: 0.6298867300208343 %\n"
     ]
    }
   ],
   "source": [
    "print (\"Mass difference between 12C and 13C:\", carbon_isotope_difference)\n",
    "print (\"Mass difference between 14N and N15:\", nitrogen_isotope_difference)\n",
    "print (\"Relative deviation:\", 100*(carbon_isotope_difference -\n",
    "        nitrogen_isotope_difference)/carbon_isotope_difference, \"%\")"
   ]
  },
  {
   "cell_type": "code",
   "execution_count": null,
   "id": "cc7656a3",
   "metadata": {},
   "outputs": [],
   "source": []
  }
 ],
 "metadata": {
  "kernelspec": {
   "display_name": "Python 3 (ipykernel)",
   "language": "python",
   "name": "python3"
  },
  "language_info": {
   "codemirror_mode": {
    "name": "ipython",
    "version": 3
   },
   "file_extension": ".py",
   "mimetype": "text/x-python",
   "name": "python",
   "nbconvert_exporter": "python",
   "pygments_lexer": "ipython3",
   "version": "3.9.12"
  }
 },
 "nbformat": 4,
 "nbformat_minor": 5
}
