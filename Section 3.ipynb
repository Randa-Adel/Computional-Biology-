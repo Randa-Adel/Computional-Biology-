{
 "cells": [
  {
   "cell_type": "markdown",
   "id": "79dcf74d",
   "metadata": {},
   "source": [
    "# Section 3"
   ]
  },
  {
   "cell_type": "markdown",
   "id": "fce41afc",
   "metadata": {},
   "source": [
    "## Peptides and Proteins :"
   ]
  },
  {
   "cell_type": "code",
   "execution_count": 3,
   "id": "c1fe6cdf",
   "metadata": {},
   "outputs": [],
   "source": [
    "import pyopenms\n",
    "from pyopenms import *\n"
   ]
  },
  {
   "cell_type": "markdown",
   "id": "b03db13c",
   "metadata": {},
   "source": [
    "### Create sequence and print its prefix and suffix "
   ]
  },
  {
   "cell_type": "code",
   "execution_count": 5,
   "id": "da763a65",
   "metadata": {},
   "outputs": [
    {
     "name": "stdout",
     "output_type": "stream",
     "text": [
      "DFPIA\n"
     ]
    }
   ],
   "source": [
    "seq = AASequence.fromString(\"DFPIANGER\")\n",
    "pre = seq.getPrefix(5)\n",
    "print(pre)"
   ]
  },
  {
   "cell_type": "code",
   "execution_count": 6,
   "id": "483c856a",
   "metadata": {},
   "outputs": [
    {
     "name": "stdout",
     "output_type": "stream",
     "text": [
      "DFPIA\n"
     ]
    }
   ],
   "source": [
    "suf = seq.getSuffix(5)\n",
    "print(pre)"
   ]
  },
  {
   "cell_type": "code",
   "execution_count": 7,
   "id": "7d0f6f82",
   "metadata": {},
   "outputs": [
    {
     "name": "stdout",
     "output_type": "stream",
     "text": [
      "DFPIAANGER\n"
     ]
    }
   ],
   "source": [
    "concated_sequence = pre +suf \n",
    "print(concated_sequence)"
   ]
  },
  {
   "cell_type": "code",
   "execution_count": 8,
   "id": "ba60a5ed",
   "metadata": {},
   "outputs": [
    {
     "data": {
      "text/plain": [
       "1017.4879641373001"
      ]
     },
     "execution_count": 8,
     "metadata": {},
     "output_type": "execute_result"
    }
   ],
   "source": [
    "# get the monoweghit for the sequence (full weight without the charge weight) \n",
    "seq.getMonoWeight()"
   ]
  },
  {
   "cell_type": "code",
   "execution_count": 9,
   "id": "d8239869",
   "metadata": {},
   "outputs": [
    {
     "data": {
      "text/plain": [
       "1019.5025170708421"
      ]
     },
     "execution_count": 9,
     "metadata": {},
     "output_type": "execute_result"
    }
   ],
   "source": [
    "# The monoweight for the sequence with the charge of 2 protones \n",
    "seq.getMonoWeight(Residue.ResidueType.Full,2)"
   ]
  },
  {
   "cell_type": "code",
   "execution_count": 12,
   "id": "8898081c",
   "metadata": {},
   "outputs": [
    {
     "name": "stdout",
     "output_type": "stream",
     "text": [
      "509.7512585354211\n",
      "509.7512585354211\n"
     ]
    }
   ],
   "source": [
    "# calculating the mass of the sequence using two methods \n",
    "print(seq.getMonoWeight(Residue.ResidueType.Full,2)/2)\n",
    "print(seq.getMZ(2))"
   ]
  },
  {
   "cell_type": "markdown",
   "id": "00404bbd",
   "metadata": {},
   "source": [
    "# Task  -------------------------------------------------------------------------------------------------\n",
    "* Is (VAKA) as a sequence its mass is equal to mass(v)+ mass(A)+ mass(k)+ mass(A) ?\n"
   ]
  },
  {
   "cell_type": "code",
   "execution_count": 18,
   "id": "c92b8cef",
   "metadata": {},
   "outputs": [
    {
     "name": "stdout",
     "output_type": "stream",
     "text": [
      "387.2481710527\n"
     ]
    }
   ],
   "source": [
    "s = AASequence.fromString(\"VAKA\")\n",
    "mass1 = s.getMonoWeight()\n",
    "print(mass1)"
   ]
  },
  {
   "cell_type": "code",
   "execution_count": 19,
   "id": "fde3896d",
   "metadata": {},
   "outputs": [
    {
     "name": "stdout",
     "output_type": "stream",
     "text": [
      "468.3159174036\n"
     ]
    }
   ],
   "source": [
    "v = AASequence.fromString(\"V\")\n",
    "a = AASequence.fromString(\"V\")\n",
    "k = AASequence.fromString(\"V\")\n",
    "vmass = v.getMonoWeight()\n",
    "amass = a.getMonoWeight()\n",
    "kmass = k.getMonoWeight()\n",
    "total = vmass+amass+kmass+amass\n",
    "print(total)"
   ]
  },
  {
   "cell_type": "markdown",
   "id": "d11c7ed2",
   "metadata": {},
   "source": [
    "After calculating the full monoweigth for the sequnce and for each amino acid in the sequence we got that the summation of each amino acid is bigger than the full mono weight of the sequence itself , this because the there is the loss of bonds and H2O so it will never be equal \n",
    "# ------------------------------------------------------------------------------------------------------------"
   ]
  },
  {
   "cell_type": "markdown",
   "id": "1fd337fa",
   "metadata": {},
   "source": [
    "## Molecular formula"
   ]
  },
  {
   "cell_type": "code",
   "execution_count": 25,
   "id": "47523afe",
   "metadata": {},
   "outputs": [
    {
     "name": "stdout",
     "output_type": "stream",
     "text": [
      "C44H67N13O15\n"
     ]
    }
   ],
   "source": [
    "seq = AASequence.fromString(\"DFPIANGER\")\n",
    "print(seq.getFormula(Residue.ResidueType.YIon,2))"
   ]
  },
  {
   "cell_type": "markdown",
   "id": "78c96612",
   "metadata": {},
   "source": [
    "## Modified Sequences"
   ]
  },
  {
   "cell_type": "code",
   "execution_count": 26,
   "id": "7df56ac2",
   "metadata": {},
   "outputs": [],
   "source": [
    "seq = AASequence.fromString(\"PEPTIDESEKUEM(Oxidation)CER\")"
   ]
  },
  {
   "cell_type": "markdown",
   "id": "2cb22b59",
   "metadata": {},
   "source": [
    "## Proteins and FASTA files"
   ]
  },
  {
   "cell_type": "code",
   "execution_count": 46,
   "id": "7f4be4d1",
   "metadata": {},
   "outputs": [],
   "source": [
    "file1 = FASTAEntry()\n",
    "file1.sequence=\"AVAYYAAA\"\n",
    "file1.description= \"This Sequence made by me\"\n",
    "file1.identifier = \"PSA\"\n",
    "file2 = FASTAEntry()\n",
    "file2.sequence=\"VANGERA\"\n",
    "file2.description= \"This Sequence made by me\"\n",
    "file2.identifier = \"SAP\"\n",
    "\n",
    "f= FASTAFile()\n",
    "entry = [file1,file2]\n",
    "f.store(\"f.fasta\", entry)"
   ]
  },
  {
   "cell_type": "code",
   "execution_count": 47,
   "id": "06fa5805",
   "metadata": {},
   "outputs": [
    {
     "name": "stdout",
     "output_type": "stream",
     "text": [
      "The identifier of 'AVAYYAAA' is PSA \n",
      "The identifier of 'VANGERA' is SAP \n"
     ]
    }
   ],
   "source": [
    "E = []\n",
    "file = FASTAFile()\n",
    "file.load(\"f.fasta\",E)\n",
    "for i in E:\n",
    "    print(\"The identifier of '{}' is {} \".format(i.sequence , i.identifier))\n",
    "    "
   ]
  },
  {
   "cell_type": "code",
   "execution_count": null,
   "id": "712b6848",
   "metadata": {},
   "outputs": [],
   "source": []
  }
 ],
 "metadata": {
  "kernelspec": {
   "display_name": "Python 3 (ipykernel)",
   "language": "python",
   "name": "python3"
  },
  "language_info": {
   "codemirror_mode": {
    "name": "ipython",
    "version": 3
   },
   "file_extension": ".py",
   "mimetype": "text/x-python",
   "name": "python",
   "nbconvert_exporter": "python",
   "pygments_lexer": "ipython3",
   "version": "3.9.12"
  }
 },
 "nbformat": 4,
 "nbformat_minor": 5
}
